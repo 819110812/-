{
 "cells": [
  {
   "cell_type": "code",
   "execution_count": 2,
   "metadata": {},
   "outputs": [],
   "source": [
    "import pandas as pd\n",
    "import numpy as np\n",
    "import jieba\n",
    "import re\n",
    "from gensim import corpora\n"
   ]
  },
  {
   "cell_type": "code",
   "execution_count": 3,
   "metadata": {},
   "outputs": [],
   "source": [
    "train = pd.read_csv(\"train.csv\",delimiter=\"\\t\",encoding=\"utf-8\")\n",
    "test = pd.read_csv(\"test.csv\",delimiter=\"\\t\",encoding=\"utf-8\")"
   ]
  },
  {
   "cell_type": "code",
   "execution_count": 4,
   "metadata": {},
   "outputs": [],
   "source": [
    "l2n = {\"FAVOR\":2,\"AGAINST\":1,\"NONE\":0}\n",
    "n2l = {2:\"FAVOR\",1:\"AGAINST\",0:\"NONE\"}\n",
    "train[\"stance\"] = train[\"stance\"].map(l2n)"
   ]
  },
  {
   "cell_type": "code",
   "execution_count": 5,
   "metadata": {},
   "outputs": [],
   "source": [
    "def stopwordslist():\n",
    "    stopwords = [line.strip() for line in open('cn_stopwords.txt',encoding='UTF-8').readlines()]\n",
    "    return stopwords\n",
    "\n",
    "def removepre(sentence):\n",
    "    pattern = re.compile(\"[^a-zA-Z0-9\\u4E00-\\u9FA5]\")\n",
    "    sentence = pattern.sub(\"\",sentence)\n",
    "    sentence = sentence.replace(\"#\",\"\")\n",
    "    sentence = sentence.replace(\"【\",\"\")\n",
    "    sentence = sentence.replace(\"】\",\"\")\n",
    "    return sentence\n",
    "\n",
    "\n",
    "def removenumber(sentence):\n",
    "    pattern = re.compile(\"[\\d+]\")\n",
    "    sentence = pattern.sub(\"\",sentence)\n",
    "    return sentence\n",
    "    \n",
    "        \n",
    "def seg_depart(sentence):\n",
    "     # 对文档中的每一行进行中文分词\n",
    "    sentence_depart = jieba.cut(sentence.strip())\n",
    "     # 创建一个停用词列表\n",
    "    stopwords = stopwordslist()\n",
    "    # 输出结果为outstr\n",
    "    outstr = ''\n",
    "   # 去停用词\n",
    "    for word in sentence_depart:\n",
    "        if word not in stopwords:\n",
    "            if word != '\\t':\n",
    "                outstr += word\n",
    "                outstr += \" \"\n",
    "    return outstr  "
   ]
  },
  {
   "cell_type": "code",
   "execution_count": 6,
   "metadata": {},
   "outputs": [
    {
     "name": "stderr",
     "output_type": "stream",
     "text": [
      "Building prefix dict from the default dictionary ...\n",
      "Loading model from cache C:\\Users\\lenovo\\AppData\\Local\\Temp\\jieba.cache\n",
      "Loading model cost 0.613 seconds.\n",
      "Prefix dict has been built successfully.\n"
     ]
    }
   ],
   "source": [
    "train[\"cut\"] = train[\"text\"].apply(removepre)\n",
    "test[\"cut\"] = test[\"text\"].apply(removepre)\n",
    "\n",
    "train[\"cut\"] = train[\"cut\"].apply(removenumber)\n",
    "test[\"cut\"] = train[\"cut\"].apply(removenumber)\n",
    "\n",
    "train[\"cut\"] = train[\"cut\"].apply(seg_depart)\n",
    "test[\"cut\"] = train[\"cut\"].apply(seg_depart)\n",
    "\n"
   ]
  },
  {
   "cell_type": "code",
   "execution_count": 15,
   "metadata": {},
   "outputs": [],
   "source": [
    "import matplotlib.pyplot as plt\n",
    "\n",
    "train[\"length\"] = train[\"cut\"].apply(lambda x: len(x))"
   ]
  },
  {
   "cell_type": "code",
   "execution_count": 16,
   "metadata": {},
   "outputs": [
    {
     "data": {
      "text/html": [
       "<div>\n",
       "<style scoped>\n",
       "    .dataframe tbody tr th:only-of-type {\n",
       "        vertical-align: middle;\n",
       "    }\n",
       "\n",
       "    .dataframe tbody tr th {\n",
       "        vertical-align: top;\n",
       "    }\n",
       "\n",
       "    .dataframe thead th {\n",
       "        text-align: right;\n",
       "    }\n",
       "</style>\n",
       "<table border=\"1\" class=\"dataframe\">\n",
       "  <thead>\n",
       "    <tr style=\"text-align: right;\">\n",
       "      <th></th>\n",
       "      <th>target</th>\n",
       "      <th>text</th>\n",
       "      <th>stance</th>\n",
       "      <th>cut</th>\n",
       "      <th>length</th>\n",
       "    </tr>\n",
       "  </thead>\n",
       "  <tbody>\n",
       "    <tr>\n",
       "      <th>0</th>\n",
       "      <td>开放二胎</td>\n",
       "      <td>刚回家几天就迫不及待的赶到了小舅家，看着乖巧懂事的表妹和可爱的小表弟，心情格外舒畅！这个画面...</td>\n",
       "      <td>2</td>\n",
       "      <td>刚 回家 几天 迫不及待 赶到 小舅 家 看着 乖巧 懂事 表妹 可爱 小表弟 心情 格外 ...</td>\n",
       "      <td>115</td>\n",
       "    </tr>\n",
       "    <tr>\n",
       "      <th>1</th>\n",
       "      <td>俄罗斯在叙利亚的反恐行动</td>\n",
       "      <td>俄罗斯就是流氓</td>\n",
       "      <td>1</td>\n",
       "      <td>俄罗斯 流氓</td>\n",
       "      <td>7</td>\n",
       "    </tr>\n",
       "    <tr>\n",
       "      <th>2</th>\n",
       "      <td>春节放鞭炮</td>\n",
       "      <td>#春节放鞭炮#【中央气象台首次发布烟花爆竹燃放气象指数】明天就是除夕了，年味越发浓郁。今早，...</td>\n",
       "      <td>1</td>\n",
       "      <td>春节 放鞭炮 中央气象台 首次 发布 烟花爆竹 燃放 气象 指数 明天 除夕 年 味 越发 ...</td>\n",
       "      <td>164</td>\n",
       "    </tr>\n",
       "    <tr>\n",
       "      <th>3</th>\n",
       "      <td>IphoneSE</td>\n",
       "      <td>iPhoneSE貌似摄像头不外突了，普天同庆</td>\n",
       "      <td>2</td>\n",
       "      <td>iPhoneSE 貌似 摄像头 外突 普天同庆</td>\n",
       "      <td>24</td>\n",
       "    </tr>\n",
       "    <tr>\n",
       "      <th>4</th>\n",
       "      <td>春节放鞭炮</td>\n",
       "      <td>千万人口级城市北京，原住民在庆祝第一大节日春节，大家伙都心照不宣的想到：别再给伤痕累累的家乡...</td>\n",
       "      <td>1</td>\n",
       "      <td>千万 人口 级 城市 北京 原住民 庆祝 第一 节日 春节 大家伙 心照不宣 想到 伤痕累累...</td>\n",
       "      <td>143</td>\n",
       "    </tr>\n",
       "    <tr>\n",
       "      <th>...</th>\n",
       "      <td>...</td>\n",
       "      <td>...</td>\n",
       "      <td>...</td>\n",
       "      <td>...</td>\n",
       "      <td>...</td>\n",
       "    </tr>\n",
       "    <tr>\n",
       "      <th>2395</th>\n",
       "      <td>春节放鞭炮</td>\n",
       "      <td>关于穿中国传统服饰的问题, 应该上升到一种战略的高度来看. 这样,可以在全世界范围内, 把华...</td>\n",
       "      <td>2</td>\n",
       "      <td>穿 中国 传统 服饰 问题 应该 上升 一种 战略 高度 来看 全世界 范围 华人 力量 团...</td>\n",
       "      <td>145</td>\n",
       "    </tr>\n",
       "    <tr>\n",
       "      <th>2396</th>\n",
       "      <td>春节放鞭炮</td>\n",
       "      <td>#春节1980s#今天农历腊月二十三。按照豫西南传统的春节习俗，今天正式开始进入过年的前奏。...</td>\n",
       "      <td>2</td>\n",
       "      <td>春节 s 今天 农历 腊月 二十三 豫西南 传统 春节 习俗 今天 正式 进入 过年 前奏 ...</td>\n",
       "      <td>145</td>\n",
       "    </tr>\n",
       "    <tr>\n",
       "      <th>2397</th>\n",
       "      <td>俄罗斯在叙利亚的反恐行动</td>\n",
       "      <td>杀啊 把恐怖份子杀干净。</td>\n",
       "      <td>2</td>\n",
       "      <td>杀 恐怖份子 杀 干净</td>\n",
       "      <td>12</td>\n",
       "    </tr>\n",
       "    <tr>\n",
       "      <th>2398</th>\n",
       "      <td>深圳禁摩限电</td>\n",
       "      <td>#深圳禁摩限电# 持续进行中</td>\n",
       "      <td>0</td>\n",
       "      <td>深圳 禁摩 限电 持续 进行 中</td>\n",
       "      <td>17</td>\n",
       "    </tr>\n",
       "    <tr>\n",
       "      <th>2399</th>\n",
       "      <td>深圳禁摩限电</td>\n",
       "      <td>深圳关于禁摩限电的最新一轮疯狗行动已经接近大功告成了，据说有上万部电动车被没收，几百人被拘留...</td>\n",
       "      <td>1</td>\n",
       "      <td>深圳 禁摩 限电 最新 一轮 疯狗 行动 已经 接近 大功告成 据说 万部 电动车 没收 几...</td>\n",
       "      <td>107</td>\n",
       "    </tr>\n",
       "  </tbody>\n",
       "</table>\n",
       "<p>2400 rows × 5 columns</p>\n",
       "</div>"
      ],
      "text/plain": [
       "            target                                               text  stance  \\\n",
       "0             开放二胎  刚回家几天就迫不及待的赶到了小舅家，看着乖巧懂事的表妹和可爱的小表弟，心情格外舒畅！这个画面...       2   \n",
       "1     俄罗斯在叙利亚的反恐行动                                            俄罗斯就是流氓       1   \n",
       "2            春节放鞭炮  #春节放鞭炮#【中央气象台首次发布烟花爆竹燃放气象指数】明天就是除夕了，年味越发浓郁。今早，...       1   \n",
       "3         IphoneSE                             iPhoneSE貌似摄像头不外突了，普天同庆       2   \n",
       "4            春节放鞭炮  千万人口级城市北京，原住民在庆祝第一大节日春节，大家伙都心照不宣的想到：别再给伤痕累累的家乡...       1   \n",
       "...            ...                                                ...     ...   \n",
       "2395         春节放鞭炮  关于穿中国传统服饰的问题, 应该上升到一种战略的高度来看. 这样,可以在全世界范围内, 把华...       2   \n",
       "2396         春节放鞭炮  #春节1980s#今天农历腊月二十三。按照豫西南传统的春节习俗，今天正式开始进入过年的前奏。...       2   \n",
       "2397  俄罗斯在叙利亚的反恐行动                                       杀啊 把恐怖份子杀干净。       2   \n",
       "2398        深圳禁摩限电                                     #深圳禁摩限电# 持续进行中       0   \n",
       "2399        深圳禁摩限电  深圳关于禁摩限电的最新一轮疯狗行动已经接近大功告成了，据说有上万部电动车被没收，几百人被拘留...       1   \n",
       "\n",
       "                                                    cut  length  \n",
       "0     刚 回家 几天 迫不及待 赶到 小舅 家 看着 乖巧 懂事 表妹 可爱 小表弟 心情 格外 ...     115  \n",
       "1                                               俄罗斯 流氓        7  \n",
       "2     春节 放鞭炮 中央气象台 首次 发布 烟花爆竹 燃放 气象 指数 明天 除夕 年 味 越发 ...     164  \n",
       "3                              iPhoneSE 貌似 摄像头 外突 普天同庆       24  \n",
       "4     千万 人口 级 城市 北京 原住民 庆祝 第一 节日 春节 大家伙 心照不宣 想到 伤痕累累...     143  \n",
       "...                                                 ...     ...  \n",
       "2395  穿 中国 传统 服饰 问题 应该 上升 一种 战略 高度 来看 全世界 范围 华人 力量 团...     145  \n",
       "2396  春节 s 今天 农历 腊月 二十三 豫西南 传统 春节 习俗 今天 正式 进入 过年 前奏 ...     145  \n",
       "2397                                       杀 恐怖份子 杀 干净       12  \n",
       "2398                                  深圳 禁摩 限电 持续 进行 中       17  \n",
       "2399  深圳 禁摩 限电 最新 一轮 疯狗 行动 已经 接近 大功告成 据说 万部 电动车 没收 几...     107  \n",
       "\n",
       "[2400 rows x 5 columns]"
      ]
     },
     "execution_count": 16,
     "metadata": {},
     "output_type": "execute_result"
    }
   ],
   "source": [
    "train"
   ]
  },
  {
   "cell_type": "code",
   "execution_count": 18,
   "metadata": {},
   "outputs": [
    {
     "data": {
      "text/plain": [
       "(array([450., 570., 462., 381., 381., 150.,   4.,   0.,   1.,   1.]),\n",
       " array([  3. ,  31.6,  60.2,  88.8, 117.4, 146. , 174.6, 203.2, 231.8,\n",
       "        260.4, 289. ]),\n",
       " <a list of 10 Patch objects>)"
      ]
     },
     "execution_count": 18,
     "metadata": {},
     "output_type": "execute_result"
    },
    {
     "data": {
      "image/png": "[encoded data removed]",
      "text/plain": [
       "<Figure size 432x288 with 1 Axes>"
      ]
     },
     "metadata": {
      "needs_background": "light"
     },
     "output_type": "display_data"
    }
   ],
   "source": [
    "plt.hist(train[\"length\"])"
   ]
  },
  {
   "cell_type": "code",
   "execution_count": null,
   "metadata": {},
   "outputs": [],
   "source": []
  },
  {
   "cell_type": "code",
   "execution_count": null,
   "metadata": {},
   "outputs": [],
   "source": []
  },
  {
   "cell_type": "code",
   "execution_count": null,
   "metadata": {},
   "outputs": [],
   "source": []
  },
  {
   "cell_type": "code",
   "execution_count": null,
   "metadata": {},
   "outputs": [],
   "source": []
  },
  {
   "cell_type": "code",
   "execution_count": null,
   "metadata": {},
   "outputs": [],
   "source": []
  },
  {
   "cell_type": "code",
   "execution_count": null,
   "metadata": {},
   "outputs": [],
   "source": []
  },
  {
   "cell_type": "code",
   "execution_count": null,
   "metadata": {},
   "outputs": [],
   "source": []
  },
  {
   "cell_type": "code",
   "execution_count": null,
   "metadata": {},
   "outputs": [],
   "source": []
  },
  {
   "cell_type": "code",
   "execution_count": null,
   "metadata": {},
   "outputs": [],
   "source": []
  },
  {
   "cell_type": "code",
   "execution_count": null,
   "metadata": {},
   "outputs": [],
   "source": []
  },
  {
   "cell_type": "code",
   "execution_count": null,
   "metadata": {},
   "outputs": [],
   "source": []
  },
  {
   "cell_type": "code",
   "execution_count": null,
   "metadata": {},
   "outputs": [],
   "source": []
  },
  {
   "cell_type": "code",
   "execution_count": null,
   "metadata": {},
   "outputs": [],
   "source": []
  },
  {
   "cell_type": "code",
   "execution_count": null,
   "metadata": {},
   "outputs": [],
   "source": []
  },
  {
   "cell_type": "code",
   "execution_count": null,
   "metadata": {},
   "outputs": [],
   "source": []
  },
  {
   "cell_type": "code",
   "execution_count": null,
   "metadata": {},
   "outputs": [],
   "source": []
  }
 ],
 "metadata": {
  "kernelspec": {
   "display_name": "Python 3",
   "language": "python",
   "name": "python3"
  },
  "language_info": {
   "codemirror_mode": {
    "name": "ipython",
    "version": 3
   },
   "file_extension": ".py",
   "mimetype": "text/x-python",
   "name": "python",
   "nbconvert_exporter": "python",
   "pygments_lexer": "ipython3",
   "version": "3.7.6"
  }
 },
 "nbformat": 4,
 "nbformat_minor": 4
}
