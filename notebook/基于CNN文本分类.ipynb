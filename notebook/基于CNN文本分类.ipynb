{
 "cells": [
  {
   "cell_type": "code",
   "execution_count": 6,
   "metadata": {},
   "outputs": [],
   "source": [
    "import pandas as pd\n",
    "import numpy as np\n",
    "import jieba\n",
    "import gensim\n",
    "import keras\n",
    "import matplotlib.pyplot as plt"
   ]
  },
  {
   "cell_type": "code",
   "execution_count": 7,
   "metadata": {},
   "outputs": [],
   "source": [
    "training = pd.read_csv(\"../dataset/training.csv\")\n",
    "testing = pd.read_csv(\"../dataset/testing.csv\")"
   ]
  },
  {
   "cell_type": "code",
   "execution_count": 22,
   "metadata": {},
   "outputs": [
    {
     "data": {
      "text/plain": [
       "(2400, 5)"
      ]
     },
     "execution_count": 22,
     "metadata": {},
     "output_type": "execute_result"
    }
   ],
   "source": [
    "training.shape"
   ]
  },
  {
   "cell_type": "code",
   "execution_count": 13,
   "metadata": {},
   "outputs": [],
   "source": [
    "model = gensim.models.word2vec.Word2Vec.load(\"./word2Vec.model\")"
   ]
  },
  {
   "cell_type": "code",
   "execution_count": 14,
   "metadata": {},
   "outputs": [],
   "source": [
    "def buildWordVector(imdb_w2v,text, size):\n",
    "    vec = np.zeros(size).reshape((1, size))\n",
    "    pad = np.zeros(size).reshape((1, size))\n",
    "    count = 0\n",
    "    for word in text.split():\n",
    "        try:\n",
    "            vec = np.vstack((vec, imdb_w2v[word].reshape((1, size)))) \n",
    "            count += 1\n",
    "        except KeyError:\n",
    "            print (word)\n",
    "    vec = np.delete(vec, 0, 0)\n",
    "#填充不满260的矩阵\n",
    "    if len(vec) < 290:\n",
    "        for i in range(290 - len(vec)):\n",
    "            vec = np.vstack((vec, pad))\n",
    "    return vec\n"
   ]
  },
  {
   "cell_type": "code",
   "execution_count": 15,
   "metadata": {},
   "outputs": [],
   "source": [
    "text = [i for i in training[\"cut\"]]"
   ]
  },
  {
   "cell_type": "code",
   "execution_count": 20,
   "metadata": {},
   "outputs": [
    {
     "name": "stderr",
     "output_type": "stream",
     "text": [
      "D:\\anaconda\\lib\\site-packages\\ipykernel_launcher.py:7: DeprecationWarning: Call to deprecated `__getitem__` (Method will be removed in 4.0.0, use self.wv.__getitem__() instead).\n",
      "  import sys\n"
     ]
    },
    {
     "data": {
      "text/plain": [
       "(696000, 50)"
      ]
     },
     "execution_count": 20,
     "metadata": {},
     "output_type": "execute_result"
    }
   ],
   "source": [
    "result = buildWordVector(model,training[\"cut\"][0], 50)\n",
    "\n",
    "for i in range(1,len(training)):\n",
    "    result = np.concatenate((result, buildWordVector(model, training[\"cut\"][0], 50)), axis = 0)\n",
    "result.shape"
   ]
  },
  {
   "cell_type": "code",
   "execution_count": 23,
   "metadata": {},
   "outputs": [],
   "source": [
    "x_all = result.reshape(2400,290,50)"
   ]
  },
  {
   "cell_type": "code",
   "execution_count": 27,
   "metadata": {},
   "outputs": [],
   "source": [
    "\n",
    "import tensorflow as tf\n",
    "from sklearn.preprocessing import label_binarize\n",
    "from sklearn.model_selection import train_test_split"
   ]
  },
  {
   "cell_type": "code",
   "execution_count": 28,
   "metadata": {},
   "outputs": [],
   "source": [
    "y = training[\"stance\"]"
   ]
  },
  {
   "cell_type": "code",
   "execution_count": 45,
   "metadata": {},
   "outputs": [],
   "source": [
    "y = label_binarize(y, classes=[0,1,2])\n",
    "# 随机化数据，并划分训练数据和测试数据\n",
    "X_train, X_test, y_train, y_test = train_test_split(x_all, y, test_size=0.1,random_state=0)"
   ]
  },
  {
   "cell_type": "code",
   "execution_count": 62,
   "metadata": {},
   "outputs": [
    {
     "name": "stdout",
     "output_type": "stream",
     "text": [
      "_________________________________________________________________\n",
      "Layer (type)                 Output Shape              Param #   \n",
      "=================================================================\n",
      "conv1d_12 (Conv1D)           (None, 288, 25)           3775      \n",
      "_________________________________________________________________\n",
      "global_max_pooling1d_12 (Glo (None, 25)                0         \n",
      "_________________________________________________________________\n",
      "dense_12 (Dense)             (None, 3)                 78        \n",
      "=================================================================\n",
      "Total params: 3,853\n",
      "Trainable params: 3,853\n",
      "Non-trainable params: 0\n",
      "_________________________________________________________________\n"
     ]
    }
   ],
   "source": [
    "from keras.models import Sequential\n",
    "from keras.layers import Dense, Activation, Flatten, Conv1D, Embedding, Dropout, MaxPool1D, GlobalMaxPool1D,Lambda, LSTM, TimeDistributed\n",
    "from keras.optimizers import Adam\n",
    "import keras\n",
    "from keras.optimizers import SGD\n",
    "opt = SGD(lr=0.01)\n",
    "\n",
    "model_cnn = Sequential()\n",
    " \n",
    "model_cnn.add(Conv1D(input_shape = (290,50),filters=25,kernel_size=3, padding='valid', activation='sigmoid',strides=1))\n",
    "model_cnn.add(GlobalMaxPool1D())\n",
    "model_cnn.add(Dense(y.shape[1], activation='softmax'))\n",
    "# model_cnn.add(Dropout(0.2))\n",
    "model_cnn.compile(loss='categorical_crossentropy', optimizer = opt, metrics=['accuracy'])\n",
    "model_cnn.summary()\n"
   ]
  },
  {
   "cell_type": "code",
   "execution_count": 63,
   "metadata": {},
   "outputs": [
    {
     "name": "stdout",
     "output_type": "stream",
     "text": [
      "Train on 2160 samples, validate on 240 samples\n",
      "Epoch 1/10\n",
      "2160/2160 [==============================] - 1s 586us/step - loss: 1.1587 - acc: 0.4167 - val_loss: 1.1002 - val_acc: 0.3708\n",
      "Epoch 2/10\n",
      "2160/2160 [==============================] - 1s 351us/step - loss: 1.0612 - acc: 0.4153 - val_loss: 1.0824 - val_acc: 0.3708\n",
      "Epoch 3/10\n",
      "2160/2160 [==============================] - 1s 343us/step - loss: 1.0587 - acc: 0.4139 - val_loss: 1.0823 - val_acc: 0.3708\n",
      "Epoch 4/10\n",
      "2160/2160 [==============================] - 1s 351us/step - loss: 1.0587 - acc: 0.4153 - val_loss: 1.0803 - val_acc: 0.3708\n",
      "Epoch 5/10\n",
      "2160/2160 [==============================] - 1s 343us/step - loss: 1.0586 - acc: 0.4167 - val_loss: 1.0834 - val_acc: 0.3708\n",
      "Epoch 6/10\n",
      "2160/2160 [==============================] - 1s 354us/step - loss: 1.0587 - acc: 0.4167 - val_loss: 1.0781 - val_acc: 0.3708\n",
      "Epoch 7/10\n",
      "2160/2160 [==============================] - 1s 345us/step - loss: 1.0585 - acc: 0.4167 - val_loss: 1.0773 - val_acc: 0.3708\n",
      "Epoch 8/10\n",
      "2160/2160 [==============================] - 1s 343us/step - loss: 1.0584 - acc: 0.4167 - val_loss: 1.0791 - val_acc: 0.3708\n",
      "Epoch 9/10\n",
      "2160/2160 [==============================] - 1s 343us/step - loss: 1.0585 - acc: 0.4130 - val_loss: 1.0823 - val_acc: 0.3708\n",
      "Epoch 10/10\n",
      "2160/2160 [==============================] - 1s 349us/step - loss: 1.0584 - acc: 0.4102 - val_loss: 1.0811 - val_acc: 0.3708\n"
     ]
    },
    {
     "data": {
      "text/plain": [
       "<keras.callbacks.History at 0x20d00268148>"
      ]
     },
     "execution_count": 63,
     "metadata": {},
     "output_type": "execute_result"
    }
   ],
   "source": [
    "model_cnn.fit(X_train,y_train,epochs=10,batch_size=32,validation_data=(X_test,y_test))"
   ]
  },
  {
   "cell_type": "code",
   "execution_count": 64,
   "metadata": {},
   "outputs": [
    {
     "data": {
      "image/png": "[encoded data removed]",
      "text/plain": [
       "<Figure size 432x288 with 1 Axes>"
      ]
     },
     "metadata": {
      "needs_background": "light"
     },
     "output_type": "display_data"
    },
    {
     "data": {
      "image/png": "[encoded data removed]",
      "text/plain": [
       "<Figure size 432x288 with 1 Axes>"
      ]
     },
     "metadata": {
      "needs_background": "light"
     },
     "output_type": "display_data"
    }
   ],
   "source": [
    "\n",
    "a = model_cnn.history\n",
    "plt.plot(a.history['acc'], linewidth=0.5)\n",
    "plt.plot(a.history['val_acc'],linewidth=0.5)\n",
    "plt.title('model accuracy')\n",
    "plt.ylabel('accuracy')\n",
    "plt.xlabel('epoch')\n",
    "plt.legend(['acc', 'val_acc'], loc = 'lower right')\n",
    "plt.show()\n",
    " \n",
    "plt.plot(a.history['loss'], linewidth=0.5)\n",
    "plt.plot(a.history['val_loss'], linewidth=0.5)\n",
    "plt.title('model loss')\n",
    "plt.xlabel('epoch')\n",
    "plt.ylabel('loss')\n",
    "plt.legend(['loss', 'val_loss'], loc='lower right')\n",
    "plt.show()\n"
   ]
  },
  {
   "cell_type": "code",
   "execution_count": null,
   "metadata": {},
   "outputs": [],
   "source": []
  }
 ],
 "metadata": {
  "kernelspec": {
   "display_name": "Python 3",
   "language": "python",
   "name": "python3"
  },
  "language_info": {
   "codemirror_mode": {
    "name": "ipython",
    "version": 3
   },
   "file_extension": ".py",
   "mimetype": "text/x-python",
   "name": "python",
   "nbconvert_exporter": "python",
   "pygments_lexer": "ipython3",
   "version": "3.7.6"
  }
 },
 "nbformat": 4,
 "nbformat_minor": 4
}
